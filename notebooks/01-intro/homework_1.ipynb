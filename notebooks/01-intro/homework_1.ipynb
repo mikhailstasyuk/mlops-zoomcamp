{
 "cells": [
  {
   "cell_type": "code",
   "execution_count": 1,
   "id": "50733ad5",
   "metadata": {},
   "outputs": [],
   "source": [
    "import pandas as pd"
   ]
  },
  {
   "cell_type": "code",
   "execution_count": 2,
   "id": "177f341e",
   "metadata": {},
   "outputs": [],
   "source": [
    "import seaborn as sns\n",
    "import matplotlib.pyplot as plt"
   ]
  },
  {
   "cell_type": "code",
   "execution_count": 3,
   "id": "9cc73385",
   "metadata": {},
   "outputs": [],
   "source": [
    "from sklearn.feature_extraction import DictVectorizer\n",
    "from sklearn.linear_model import LinearRegression"
   ]
  },
  {
   "cell_type": "code",
   "execution_count": 4,
   "id": "7479b5fd",
   "metadata": {},
   "outputs": [],
   "source": [
    "from sklearn.metrics import mean_squared_error"
   ]
  },
  {
   "cell_type": "code",
   "execution_count": 5,
   "id": "43b75406",
   "metadata": {},
   "outputs": [],
   "source": [
    "def read_dataframe(filename):\n",
    "    df = pd.read_parquet(filename)\n",
    "    \n",
    "    df['trip_duration'] = df.tpep_dropoff_datetime - df.tpep_pickup_datetime\n",
    "    df.trip_duration = df['trip_duration'].apply(lambda td: td.total_seconds() / 60.0)\n",
    "    df = df[(df.trip_duration >= 1.0) & (df.trip_duration <= 60.0)]\n",
    "    \n",
    "    categorical = ['PULocationID', 'DOLocationID']\n",
    "    df[categorical] = df[categorical].astype('str')\n",
    "    return df"
   ]
  },
  {
   "cell_type": "code",
   "execution_count": 6,
   "id": "5649899f",
   "metadata": {},
   "outputs": [],
   "source": [
    "df_train = read_dataframe('./data/yel_tripdata_01.parquet')"
   ]
  },
  {
   "cell_type": "code",
   "execution_count": 7,
   "id": "96156070",
   "metadata": {},
   "outputs": [],
   "source": [
    "df_valid = read_dataframe('./data/yel_tripdata_02.parquet')"
   ]
  },
  {
   "cell_type": "code",
   "execution_count": 8,
   "id": "d7c28ec5",
   "metadata": {},
   "outputs": [
    {
     "data": {
      "text/plain": [
       "count    2421440.00\n",
       "mean          12.67\n",
       "std            9.00\n",
       "min            1.00\n",
       "50%           10.23\n",
       "95%           31.05\n",
       "98%           39.72\n",
       "99%           45.68\n",
       "max           60.00\n",
       "Name: trip_duration, dtype: float64"
      ]
     },
     "execution_count": 8,
     "metadata": {},
     "output_type": "execute_result"
    }
   ],
   "source": [
    "df_train.trip_duration.describe(percentiles=[0.95, 0.98, 0.99]).round(2)"
   ]
  },
  {
   "cell_type": "code",
   "execution_count": 9,
   "id": "6cf3be86",
   "metadata": {},
   "outputs": [],
   "source": [
    "categorical = ['PULocationID', 'DOLocationID']"
   ]
  },
  {
   "cell_type": "code",
   "execution_count": 10,
   "id": "1db12487",
   "metadata": {},
   "outputs": [],
   "source": [
    "dv = DictVectorizer()"
   ]
  },
  {
   "cell_type": "code",
   "execution_count": 11,
   "id": "30bd3170",
   "metadata": {},
   "outputs": [],
   "source": [
    "def vectorize(subset, valid=False):\n",
    "    dicts = subset.to_dict(orient='records')\n",
    "    if valid == True:\n",
    "        vectorized = dv.transform(dicts)\n",
    "    else:\n",
    "        vectorized = dv.fit_transform(dicts)\n",
    "    return vectorized"
   ]
  },
  {
   "cell_type": "code",
   "execution_count": 12,
   "id": "ddeaa43d",
   "metadata": {},
   "outputs": [],
   "source": [
    "vectorized_train = vectorize(df_train[categorical])"
   ]
  },
  {
   "cell_type": "code",
   "execution_count": 13,
   "id": "ffd2d2f9",
   "metadata": {},
   "outputs": [],
   "source": [
    "vectorized_valid = vectorize(df_valid[categorical], valid=True)"
   ]
  },
  {
   "cell_type": "code",
   "execution_count": 14,
   "id": "ad67314e",
   "metadata": {},
   "outputs": [],
   "source": [
    "X_train = vectorized_train\n",
    "X_valid = vectorized_valid"
   ]
  },
  {
   "cell_type": "code",
   "execution_count": 15,
   "id": "84c99c26",
   "metadata": {},
   "outputs": [],
   "source": [
    "target = 'trip_duration'\n",
    "y_train = df_train[target]\n",
    "y_valid = df_valid[target]"
   ]
  },
  {
   "cell_type": "code",
   "execution_count": 16,
   "id": "27a95352",
   "metadata": {},
   "outputs": [],
   "source": [
    "lr = LinearRegression()\n",
    "lr.fit(X_train, y_train);"
   ]
  },
  {
   "cell_type": "code",
   "execution_count": 17,
   "id": "45c0f38e",
   "metadata": {},
   "outputs": [],
   "source": [
    "y_pred_train = lr.predict(X_train)\n",
    "y_pred_valid = lr.predict(X_valid)"
   ]
  },
  {
   "cell_type": "code",
   "execution_count": 18,
   "id": "7cabbb5a",
   "metadata": {},
   "outputs": [
    {
     "name": "stdout",
     "output_type": "stream",
     "text": [
      "RMSE train: 6.99\n",
      "RMSE valid: 7.79\n"
     ]
    }
   ],
   "source": [
    "rmse_train = mean_squared_error(y_train, y_pred_train, squared=False)\n",
    "rmse_valid = mean_squared_error(y_valid, y_pred_valid, squared=False)\n",
    "print('RMSE train:', round(rmse_train, 2))\n",
    "print('RMSE valid:', round(rmse_valid, 2))"
   ]
  }
 ],
 "metadata": {
  "kernelspec": {
   "display_name": "jupyter-env",
   "language": "python",
   "name": "jupiter-env"
  },
  "language_info": {
   "codemirror_mode": {
    "name": "ipython",
    "version": 3
   },
   "file_extension": ".py",
   "mimetype": "text/x-python",
   "name": "python",
   "nbconvert_exporter": "python",
   "pygments_lexer": "ipython3",
   "version": "3.10.9"
  }
 },
 "nbformat": 4,
 "nbformat_minor": 5
}
